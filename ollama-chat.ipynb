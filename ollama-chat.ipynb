{
 "cells": [
  {
   "cell_type": "code",
   "execution_count": 10,
   "metadata": {},
   "outputs": [],
   "source": [
    "from utils.app_helper import make_df_from_vectorstore, vectorstore"
   ]
  },
  {
   "cell_type": "code",
   "execution_count": 21,
   "metadata": {},
   "outputs": [
    {
     "data": {
      "text/plain": [
       "[Document(metadata={'page': 7, 'source': 'C:\\\\Users\\\\micha\\\\Documents\\\\Projects\\\\ollama-chat\\\\assets\\\\rag_docs\\\\Contract Data Requirements List (CDRL) Best Practices.pdf'}, page_content='deliverables and intellectual property.   \\nFuture research on CDRLs would benefit by including both interviews and standard \\nsurveys with current and recent DoD and defense contractor program managers and respective \\ncontracting officers.  These additional sources of data would advance the study’s findings with \\ngreater evidence and robustness in support of recommendations and CDRL best practices.     \\nThe literature review focused on representative examples of CDRL use.  Time constraints \\nand security issues limited access of actual program CDRL data.  The author based conclusions \\nand recommended best practices on available primary and secondary sources as well as personal \\nexperience.'),\n",
       " Document(metadata={'page': 3, 'source': 'C:\\\\Users\\\\micha\\\\Documents\\\\Projects\\\\ollama-chat\\\\assets\\\\rag_docs\\\\Contract Data Requirements List (CDRL) Best Practices.pdf'}, page_content='contractors.  Once a DoD PO and a prime contractor agree to the list of deliverables (CDRLs), \\nthe list becomes part of a binding contract.  CDRLs document the data items and information the \\nPO wants the contractor to provide, aligned with the terms of the contract.  A CDRL both assists \\nand protects PO’s and contractors in the execution of a defense contract.  Managing the use and \\neffectiveness of CDRLs on a contract can be cumbersome and complex.  Misunderstandings or \\nmismanagement of CDRLs can lead to schedule delays, cost overruns or system performance \\ndisputes (ACQ-1, 2019).  This paper examines the best practices and common features a DoD \\nPO and a defense contractor should consider when managing CDRLs.  The research identifies \\ncommon shortcomings in current practices and recommends ‘Best Practices’ and techniques to \\nimprove outcomes.'),\n",
       " Document(metadata={'page': 44, 'source': 'C:\\\\Users\\\\micha\\\\Documents\\\\Projects\\\\ollama-chat\\\\assets\\\\rag_docs\\\\Contract Data Requirements List (CDRL) Best Practices.pdf'}, page_content='CDRL Best Practices \\n45 \\n \\n \\nFigure 1, Page 1/3: DD Form 1423-1, Contract Deliverable Requirements List (CDRL)'),\n",
       " Document(metadata={'row': 39, 'source': 'C:\\\\Users\\\\micha\\\\Documents\\\\Projects\\\\ollama-chat\\\\assets\\\\rag_docs\\\\customers-100.csv'}, page_content='Index: 40\\nCustomer Id: 17aD8e2dB3df03D\\nFirst Name: Sherry\\nLast Name: Garza\\nCompany: Anderson Ltd\\nCity: West John\\nCountry: Poland\\nPhone 1: 001-067-713-6440x158\\nPhone 2: (978)289-8785x5766\\nEmail: ann48@miller.com\\nSubscription Date: 2021-11-01\\nWebsite: http://spence.com/')]"
      ]
     },
     "execution_count": 21,
     "metadata": {},
     "output_type": "execute_result"
    }
   ],
   "source": [
    "vectorstore.similarity_search('customer data')"
   ]
  },
  {
   "cell_type": "code",
   "execution_count": 19,
   "metadata": {},
   "outputs": [],
   "source": [
    "import requests\n",
    "\n",
    "api_url = \"http://127.0.0.1:5000/query\"  # Replace with your Flask app URL\n",
    "input_value = 'What are customers?'\n",
    "response = requests.post(api_url, json={\"input\": input_value})\n",
    "response.raise_for_status()  # Raise an error for HTTP issues\n",
    "data = response.json()\n",
    "data_out = data.get('response', 'No response received')"
   ]
  },
  {
   "cell_type": "code",
   "execution_count": 20,
   "metadata": {},
   "outputs": [
    {
     "data": {
      "text/plain": [
       "{'answer': 'According to the context, customers refer to individuals or organizations that a contractor (in this case, PO) needs to work with in terms of data preparation and delivery. The CDRLs (Contract Data Libraries) serve as a contractual means to direct the contractor to prepare and deliver data that meets specific approval and acceptance criteria.',\n",
       " 'context': [{'page': 37,\n",
       "   'source': 'C:\\\\Users\\\\micha\\\\Documents\\\\Projects\\\\ollama-chat\\\\assets\\\\rag_docs\\\\Contract Data Requirements List (CDRL) Best Practices.pdf'},\n",
       "  {'page': 10,\n",
       "   'source': 'C:\\\\Users\\\\micha\\\\Documents\\\\Projects\\\\ollama-chat\\\\assets\\\\rag_docs\\\\Contract Data Requirements List (CDRL) Best Practices.pdf'},\n",
       "  {'page': 22,\n",
       "   'source': 'C:\\\\Users\\\\micha\\\\Documents\\\\Projects\\\\ollama-chat\\\\assets\\\\rag_docs\\\\Contract Data Requirements List (CDRL) Best Practices.pdf'},\n",
       "  {'source': 'C:\\\\Users\\\\micha\\\\Documents\\\\Projects\\\\ollama-chat\\\\assets\\\\rag_docs\\\\Lincolns Gettysburg Address by Abraham Lincoln.epub'}],\n",
       " 'input': 'What are customers?'}"
      ]
     },
     "execution_count": 20,
     "metadata": {},
     "output_type": "execute_result"
    }
   ],
   "source": [
    "data_out"
   ]
  },
  {
   "cell_type": "code",
   "execution_count": null,
   "metadata": {},
   "outputs": [],
   "source": []
  }
 ],
 "metadata": {
  "kernelspec": {
   "display_name": "venv",
   "language": "python",
   "name": "python3"
  },
  "language_info": {
   "codemirror_mode": {
    "name": "ipython",
    "version": 3
   },
   "file_extension": ".py",
   "mimetype": "text/x-python",
   "name": "python",
   "nbconvert_exporter": "python",
   "pygments_lexer": "ipython3",
   "version": "3.12.5"
  }
 },
 "nbformat": 4,
 "nbformat_minor": 2
}
