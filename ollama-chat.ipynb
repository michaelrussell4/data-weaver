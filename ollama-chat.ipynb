{
 "cells": [
  {
   "cell_type": "code",
   "execution_count": 10,
   "metadata": {},
   "outputs": [],
   "source": [
    "import requests\n",
    "\n",
    "api_url = \"http://127.0.0.1:5000/query\"  # Replace with your Flask app URL\n",
    "input_value = 'hey tell me a very short story about a rabbit and a snake'\n",
    "response = requests.post(api_url, json={\"input\": input_value})\n",
    "response.raise_for_status()  # Raise an error for HTTP issues\n",
    "data = response.json()\n",
    "data_out = data.get('response', 'No response received')"
   ]
  },
  {
   "cell_type": "code",
   "execution_count": 11,
   "metadata": {},
   "outputs": [
    {
     "data": {
      "text/plain": [
       "{'answer': \"One sunny afternoon, a curious rabbit hopped into a dense forest, searching for a hidden garden. As she wandered deeper, she stumbled upon a slithery path that wound through the underbrush. Suddenly, a snake emerged from the shadows, its eyes fixed on the rabbit. But to the rabbit's surprise, instead of hissing or fleeing, the snake began to hum a gentle tune. The rabbit, entranced by the music, found herself dancing along the snake's path, feeling an unexpected sense of harmony with her slithery friend.\",\n",
       " 'context': [{'source': 'https://en.wikipedia.org/wiki/Bear',\n",
       "   'summary': 'Bears are carnivoran mammals of the family Ursidae (). They are classified as caniforms, or doglike carnivorans.  Although only eight species of bears are extant, they are widespread, appearing in a wide variety of habitats throughout most of the Northern Hemisphere and partially in the Southern Hemisphere. Bears are found on the continents of North America, South America, and Eurasia. Common characteristics of modern bears include large bodies with stocky legs, long snouts, small rounded ears, shaggy hair, plantigrade paws with five nonretractile claws, and short tails.\\nWhile the polar bear is mostly carnivorous, and the giant panda is mostly herbivorous, the remaining six species are omnivorous with varying diets. With the exception of courting individuals and mothers with their young, bears are typically solitary animals. They may be diurnal or nocturnal and have an excellent sense of smell. Despite their heavy build and awkward gait, they are adept runners, climbers, and swimmers.  Bears use shelters, such as caves and logs, as their dens; most species occupy their dens during the winter for a long period of hibernation, up to 100 days.\\nBears have been hunted since prehistoric times for their meat and fur; they have also been used for bear-baiting and other forms of entertainment, such as being made to dance. With their powerful physical presence, they play a prominent role in the arts, mythology, and other cultural aspects of various human societies. In modern times, bears have come under pressure through encroachment on their habitats and illegal trade in bear parts, including the Asian bile bear market. The IUCN lists six bear species as vulnerable or endangered, and even least concern species, such as the brown bear, are at risk of extirpation in certain countries. The poaching and international trade of these most threatened populations are prohibited, but still ongoing.',\n",
       "   'title': 'Bear'},\n",
       "  {'source': 'https://en.wikipedia.org/wiki/Chicago_Bears',\n",
       "   'summary': \"The Chicago Bears are a professional American football team based in Chicago. The Bears compete in the National Football League (NFL) as a member of the National Football Conference (NFC) North division. The Bears have won nine NFL Championships, eight prior to the AFL–NFL merger and one Super Bowl. They also hold the NFL records for the most enshrinees in the Pro Football Hall of Fame and the most retired jersey numbers. The Bears' NFL championships and overall victories are second behind the Green Bay Packers, with whom they have a long-standing rivalry.\\nThe franchise was founded in Decatur, Illinois, on September 20, 1919, became professional on September 17, 1920, and moved to Chicago in 1921. It is one of two remaining franchises from the NFL founding in 1920, along with the Arizona Cardinals, which began in Chicago. The team played home games at Wrigley Field on Chicago's North Side through the 1970 season; playing since then at Soldier Field on the Near South Side, adjacent to Lake Michigan.\\nThe team headquarters, Halas Hall, is in the Chicago suburb of Lake Forest, Illinois. The Bears practice at adjoining facilities there during the season, and began hosting training camp at Halas Hall in 2020 after major renovations.\",\n",
       "   'title': 'Chicago Bears'},\n",
       "  {'source': 'https://en.wikipedia.org/wiki/Sugar_beet',\n",
       "   'summary': \"A sugar beet is a plant whose root contains a high concentration of sucrose and that is grown commercially for sugar production. In plant breeding, it is known as the Altissima cultivar group of the common beet (Beta vulgaris). Together with other beet cultivars, such as beetroot and chard, it belongs to the subspecies Beta vulgaris subsp. vulgaris but classified as var. saccharifera . Its closest wild relative is the sea beet (Beta vulgaris subsp. maritima).\\nSugar beets are grown in climates that are too cold for sugarcane. In 2020, Russia, the United States, Germany, France and Turkey were the world's five largest sugar beet producers. In 2010–2011, Europe, and North America except Arctic territories failed to supply the overall domestic demand for sugar and were all net importers of sugar. The US harvested 1,004,600 acres (406,547 ha) of sugar beets in 2008. In 2009, sugar beets accounted for 20% of the world's sugar production and nearly 30% by 2013. Sugarcane accounts for most of the rest of sugar produced globally. In February 2015, a USDA factsheet reported that sugar beets generally account for about 55 percent of domestically produced sugar, and sugar cane for about 45 percent.\",\n",
       "   'title': 'Sugar beet'},\n",
       "  {'source': 'https://en.wikipedia.org/wiki/List_of_Battlestar_Galactica_(1978_TV_series)_and_Galactica_1980_characters',\n",
       "   'summary': 'Battlestar Galactica is an American science fiction television series created by Glen A. Larson that aired on the ABC network from September 17, 1978, to April 29, 1979. It stars an ensemble cast led by Richard Hatch, Dirk Benedict and Lorne Greene. Canceled after 24 episodes, the series was revived as Galactica 1980, which aired for 10 episodes from January 27 to May 4, 1980, and featured only Greene and Herbert Jefferson Jr. from the original series cast.\\nBattlestar Galactica follows a group of human survivors fleeing the destruction of their homeworlds aboard the titular spacecraft, searching for a new home while being pursued by the Cylons, a fearsome society of robots intent on exterminating all humans. In Galactica 1980, set 30 years later, the fleet finds contemporary Earth with the Cylons still in pursuit.\\nThe Battlestar Galactica franchise was rebooted on the Sci-Fi Channel with a 2003 miniseries and a 2004–2009 series, using new incarnations of some characters from the original series and inventing others.',\n",
       "   'title': 'List of Battlestar Galactica (1978 TV series) and Galactica 1980 characters'}],\n",
       " 'input': 'hey tell me a very short story about a rabbit and a snake'}"
      ]
     },
     "execution_count": 11,
     "metadata": {},
     "output_type": "execute_result"
    }
   ],
   "source": [
    "data_out"
   ]
  },
  {
   "cell_type": "code",
   "execution_count": null,
   "metadata": {},
   "outputs": [],
   "source": []
  }
 ],
 "metadata": {
  "kernelspec": {
   "display_name": "venv",
   "language": "python",
   "name": "python3"
  },
  "language_info": {
   "codemirror_mode": {
    "name": "ipython",
    "version": 3
   },
   "file_extension": ".py",
   "mimetype": "text/x-python",
   "name": "python",
   "nbconvert_exporter": "python",
   "pygments_lexer": "ipython3",
   "version": "3.12.5"
  }
 },
 "nbformat": 4,
 "nbformat_minor": 2
}
